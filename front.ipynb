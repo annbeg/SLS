{
 "cells": [
  {
   "cell_type": "code",
   "execution_count": 1,
   "metadata": {},
   "outputs": [
    {
     "name": "stdout",
     "output_type": "stream",
     "text": [
      "Введите путь к файлу\n"
     ]
    },
    {
     "name": "stdin",
     "output_type": "stream",
     "text": [
      " specs/spec (188).xlsx\n"
     ]
    },
    {
     "name": "stdout",
     "output_type": "stream",
     "text": [
      "Введите путь для сохранения файла\n"
     ]
    },
    {
     "name": "stdin",
     "output_type": "stream",
     "text": [
      " \n"
     ]
    },
    {
     "name": "stderr",
     "output_type": "stream",
     "text": [
      "/Users/aleksandrbutenko/Projects/RES-IT/SLS/task1.py:920: UserWarning: DataFrame columns are not unique, some columns will be omitted.\n",
      "  eng_vars_Connection_columns = eng_vars_Connection_columns.set_index('connection_ru').T.to_dict('list')\n",
      "/Users/aleksandrbutenko/Projects/RES-IT/SLS/task1.py:925: UserWarning: DataFrame columns are not unique, some columns will be omitted.\n",
      "  eng_vars_Material_columns = eng_vars_Material_columns.set_index('material_ru').T.to_dict('list')\n",
      "/Users/aleksandrbutenko/Projects/RES-IT/SLS/task1.py:929: UserWarning: DataFrame columns are not unique, some columns will be omitted.\n",
      "  eng_vars_SeismoCat_columns = eng_vars_SeismoCat_columns.set_index('SeismoCat_ru').T.to_dict('list')\n"
     ]
    }
   ],
   "source": [
    "%run ./task1.py"
   ]
  },
  {
   "cell_type": "code",
   "execution_count": null,
   "metadata": {},
   "outputs": [],
   "source": []
  }
 ],
 "metadata": {
  "kernelspec": {
   "display_name": "sls_env",
   "language": "python",
   "name": "sls_env"
  },
  "language_info": {
   "codemirror_mode": {
    "name": "ipython",
    "version": 3
   },
   "file_extension": ".py",
   "mimetype": "text/x-python",
   "name": "python",
   "nbconvert_exporter": "python",
   "pygments_lexer": "ipython3",
   "version": "3.8.5"
  }
 },
 "nbformat": 4,
 "nbformat_minor": 4
}
